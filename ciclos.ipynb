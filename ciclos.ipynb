{
 "cells": [
  {
   "cell_type": "code",
   "execution_count": null,
   "id": "52ee4389",
   "metadata": {},
   "outputs": [],
   "source": []
  },
  {
   "cell_type": "code",
   "execution_count": 19,
   "id": "b046d7a4",
   "metadata": {},
   "outputs": [
    {
     "name": "stdout",
     "output_type": "stream",
     "text": [
      "Stop0\n",
      "stop1\n"
     ]
    }
   ],
   "source": [
    "import time \n",
    "def countdown(time_sec):    \n",
    "    while time_sec:        \n",
    "        mins, secs = divmod(time_sec, 60)        \n",
    "        timeformat = '{:02d}:{:02d}'.format(mins, secs)        \n",
    "        print(timeformat, end='\\r')        \n",
    "        time.sleep(1)        \n",
    "        time_sec -= 1    \n",
    "    print(\"stop\") \n",
    "\n",
    "def countup(time_sec):\n",
    "    sec = 0\n",
    "    while sec <= time_sec: \n",
    "            mins, secs = divmod(sec, 60)\n",
    "            timeformat = '{:02d}:{:02d}'.format(mins,secs)\n",
    "            print(timeformat, end='\\r')\n",
    "            time.sleep(1)\n",
    "            sec += 1\n",
    "    print(\"Stop\")\n",
    "    \n",
    "countup(10)    \n",
    "countdown(10)"
   ]
  },
  {
   "cell_type": "code",
   "execution_count": null,
   "id": "10e5cb67",
   "metadata": {},
   "outputs": [],
   "source": []
  },
  {
   "cell_type": "code",
   "execution_count": null,
   "id": "23f135c8",
   "metadata": {},
   "outputs": [],
   "source": []
  }
 ],
 "metadata": {
  "kernelspec": {
   "display_name": "Python 3 (ipykernel)",
   "language": "python",
   "name": "python3"
  },
  "language_info": {
   "codemirror_mode": {
    "name": "ipython",
    "version": 3
   },
   "file_extension": ".py",
   "mimetype": "text/x-python",
   "name": "python",
   "nbconvert_exporter": "python",
   "pygments_lexer": "ipython3",
   "version": "3.11.3"
  }
 },
 "nbformat": 4,
 "nbformat_minor": 5
}
