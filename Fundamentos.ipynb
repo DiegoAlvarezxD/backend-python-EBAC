{
 "cells": [
  {
   "cell_type": "markdown",
   "id": "64d806ed",
   "metadata": {},
   "source": [
    "# Python distingue entre mayusculas y minusculas.\n"
   ]
  },
  {
   "cell_type": "code",
   "execution_count": 10,
   "id": "a67d7dd6",
   "metadata": {},
   "outputs": [
    {
     "name": "stdout",
     "output_type": "stream",
     "text": [
      "El curso es:  Backend Python\n"
     ]
    }
   ],
   "source": [
    "A = \"Backend Python\"\n",
    "print(\"El curso es: \",A)"
   ]
  },
  {
   "cell_type": "code",
   "execution_count": 11,
   "id": "b98ee576",
   "metadata": {},
   "outputs": [
    {
     "ename": "NameError",
     "evalue": "name 'a' is not defined",
     "output_type": "error",
     "traceback": [
      "\u001b[0;31m---------------------------------------------------------------------------\u001b[0m",
      "\u001b[0;31mNameError\u001b[0m                                 Traceback (most recent call last)",
      "Cell \u001b[0;32mIn[11], line 2\u001b[0m\n\u001b[1;32m      1\u001b[0m A \u001b[38;5;241m=\u001b[39m \u001b[38;5;124m\"\u001b[39m\u001b[38;5;124mBackend Python\u001b[39m\u001b[38;5;124m\"\u001b[39m\n\u001b[0;32m----> 2\u001b[0m \u001b[38;5;28mprint\u001b[39m(\u001b[38;5;124m\"\u001b[39m\u001b[38;5;124mEl curso es: \u001b[39m\u001b[38;5;124m\"\u001b[39m,a)\n",
      "\u001b[0;31mNameError\u001b[0m: name 'a' is not defined"
     ]
    }
   ],
   "source": [
    "A = \"Backend Python\"\n",
    "print(\"El curso es: \",a)"
   ]
  },
  {
   "cell_type": "markdown",
   "id": "e0d52fdd",
   "metadata": {},
   "source": [
    "# Palabras reservadas en Python"
   ]
  },
  {
   "cell_type": "code",
   "execution_count": 14,
   "id": "28ab3eb1",
   "metadata": {},
   "outputs": [
    {
     "name": "stdout",
     "output_type": "stream",
     "text": [
      "\n",
      "Here is a list of the Python keywords.  Enter any keyword to get more help.\n",
      "\n",
      "False               class               from                or\n",
      "None                continue            global              pass\n",
      "True                def                 if                  raise\n",
      "and                 del                 import              return\n",
      "as                  elif                in                  try\n",
      "assert              else                is                  while\n",
      "async               except              lambda              with\n",
      "await               finally             nonlocal            yield\n",
      "break               for                 not                 \n",
      "\n"
     ]
    }
   ],
   "source": [
    "help(\"keywords\")"
   ]
  },
  {
   "cell_type": "markdown",
   "id": "f46ac404",
   "metadata": {},
   "source": [
    "# Caracteres de escape en Python"
   ]
  },
  {
   "cell_type": "code",
   "execution_count": 18,
   "id": "594d0700",
   "metadata": {},
   "outputs": [
    {
     "data": {
      "text/plain": [
       "\"' \""
      ]
     },
     "execution_count": 18,
     "metadata": {},
     "output_type": "execute_result"
    }
   ],
   "source": [
    "\"\\' \" # Single quote / Comilla sencilla "
   ]
  },
  {
   "cell_type": "code",
   "execution_count": 19,
   "id": "8121a7f6",
   "metadata": {},
   "outputs": [
    {
     "data": {
      "text/plain": [
       "'\" '"
      ]
     },
     "execution_count": 19,
     "metadata": {},
     "output_type": "execute_result"
    }
   ],
   "source": [
    "\"\\\" \" # Double Quote / Comilla doble "
   ]
  },
  {
   "cell_type": "code",
   "execution_count": 20,
   "id": "d393a72c",
   "metadata": {},
   "outputs": [
    {
     "data": {
      "text/plain": [
       "'\\n '"
      ]
     },
     "execution_count": 20,
     "metadata": {},
     "output_type": "execute_result"
    }
   ],
   "source": [
    "\"\\n \" # New Line / Salto de linea "
   ]
  },
  {
   "cell_type": "code",
   "execution_count": 21,
   "id": "cda9938a",
   "metadata": {},
   "outputs": [
    {
     "name": "stdout",
     "output_type": "stream",
     "text": [
      "Backend en Python\n"
     ]
    }
   ],
   "source": [
    "myCurse = \"Backend en Python\"\n",
    "print(myCurse)"
   ]
  },
  {
   "cell_type": "code",
   "execution_count": 23,
   "id": "0c0b3c7f",
   "metadata": {},
   "outputs": [
    {
     "name": "stdout",
     "output_type": "stream",
     "text": [
      "Backend\n",
      "en Python\n"
     ]
    }
   ],
   "source": [
    "myCurse = \"Backend\\nen Python\"\n",
    "print(myCurse)"
   ]
  },
  {
   "cell_type": "code",
   "execution_count": 24,
   "id": "155c9c8e",
   "metadata": {},
   "outputs": [
    {
     "data": {
      "text/plain": [
       "'\\t'"
      ]
     },
     "execution_count": 24,
     "metadata": {},
     "output_type": "execute_result"
    }
   ],
   "source": [
    "\"\\t\" #Tab"
   ]
  },
  {
   "cell_type": "code",
   "execution_count": 27,
   "id": "3be59cf8",
   "metadata": {},
   "outputs": [
    {
     "name": "stdout",
     "output_type": "stream",
     "text": [
      "Backend \t en Python\n"
     ]
    }
   ],
   "source": [
    "myCurse = \"Backend \\t en Python\"\n",
    "print(myCurse)"
   ]
  },
  {
   "cell_type": "code",
   "execution_count": 28,
   "id": "7ad1d9ea",
   "metadata": {},
   "outputs": [
    {
     "data": {
      "text/plain": [
       "'\\r '"
      ]
     },
     "execution_count": 28,
     "metadata": {},
     "output_type": "execute_result"
    }
   ],
   "source": [
    "\"\\r \" # Carriage Return / Retorno de carro"
   ]
  },
  {
   "cell_type": "code",
   "execution_count": 29,
   "id": "5ea06bab",
   "metadata": {},
   "outputs": [
    {
     "name": "stdout",
     "output_type": "stream",
     "text": [
      "Backend\r",
      "en Python\n"
     ]
    }
   ],
   "source": [
    "myCurse = \"Backend\\ren Python\"\n",
    "print(myCurse)"
   ]
  },
  {
   "cell_type": "code",
   "execution_count": 30,
   "id": "6c1def3a",
   "metadata": {},
   "outputs": [
    {
     "data": {
      "text/plain": [
       "'\\x08'"
      ]
     },
     "execution_count": 30,
     "metadata": {},
     "output_type": "execute_result"
    }
   ],
   "source": [
    "\"\\b\" #Backspace / Retorno "
   ]
  },
  {
   "cell_type": "code",
   "execution_count": 32,
   "id": "00f8579c",
   "metadata": {},
   "outputs": [
    {
     "name": "stdout",
     "output_type": "stream",
     "text": [
      "Backend\b en Python\n"
     ]
    }
   ],
   "source": [
    "# Elimina el caractaer anterior a \\b en este caso elimina la \"d\"\n",
    "myCurse = \"Backend\\b en Python\"\n",
    "print(myCurse)"
   ]
  },
  {
   "cell_type": "code",
   "execution_count": 34,
   "id": "038220b6",
   "metadata": {},
   "outputs": [
    {
     "data": {
      "text/plain": [
       "'\\\\ooo'"
      ]
     },
     "execution_count": 34,
     "metadata": {},
     "output_type": "execute_result"
    }
   ],
   "source": [
    "\"\\ooo\" #octal"
   ]
  },
  {
   "cell_type": "code",
   "execution_count": 37,
   "id": "67b2783a",
   "metadata": {},
   "outputs": [
    {
     "name": "stdout",
     "output_type": "stream",
     "text": [
      "Hola\n"
     ]
    }
   ],
   "source": [
    "hello_spanish_octal = \"\\110\\157\\154\\141\"\n",
    "print(hello_spanish_octal)"
   ]
  },
  {
   "cell_type": "code",
   "execution_count": 40,
   "id": "f17d0dba",
   "metadata": {},
   "outputs": [
    {
     "name": "stdout",
     "output_type": "stream",
     "text": [
      "Hola\n"
     ]
    }
   ],
   "source": [
    "# Hexadecial \n",
    "hello_spanish_octal = \"\\x48\\x6f\\x6c\\x61\"\n",
    "print(hello_spanish_octal)"
   ]
  },
  {
   "cell_type": "markdown",
   "id": "ef30aef5",
   "metadata": {},
   "source": [
    "## Función eval()\n"
   ]
  },
  {
   "cell_type": "code",
   "execution_count": 42,
   "id": "4d693d0c",
   "metadata": {},
   "outputs": [
    {
     "name": "stdout",
     "output_type": "stream",
     "text": [
      "my_number + 1000\n"
     ]
    }
   ],
   "source": [
    "my_number = 22\n",
    "print(\"my_number + 1000\")"
   ]
  },
  {
   "cell_type": "code",
   "execution_count": 43,
   "id": "9a442382",
   "metadata": {},
   "outputs": [
    {
     "name": "stdout",
     "output_type": "stream",
     "text": [
      "1022\n"
     ]
    }
   ],
   "source": [
    "my_number = 22\n",
    "print(eval(\"my_number + 1000\"))"
   ]
  },
  {
   "cell_type": "code",
   "execution_count": 44,
   "id": "7a9e530d",
   "metadata": {},
   "outputs": [
    {
     "name": "stdout",
     "output_type": "stream",
     "text": [
      "Ingresa un numero: 23\n"
     ]
    }
   ],
   "source": [
    "my_input = input(\"Ingresa un numero: \")"
   ]
  },
  {
   "cell_type": "code",
   "execution_count": 45,
   "id": "684a0fd2",
   "metadata": {},
   "outputs": [
    {
     "data": {
      "text/plain": [
       "'23'"
      ]
     },
     "execution_count": 45,
     "metadata": {},
     "output_type": "execute_result"
    }
   ],
   "source": [
    "my_input"
   ]
  },
  {
   "cell_type": "code",
   "execution_count": 46,
   "id": "ee7736b4",
   "metadata": {},
   "outputs": [
    {
     "data": {
      "text/plain": [
       "23"
      ]
     },
     "execution_count": 46,
     "metadata": {},
     "output_type": "execute_result"
    }
   ],
   "source": [
    "eval(my_input)"
   ]
  },
  {
   "cell_type": "code",
   "execution_count": 47,
   "id": "ea56cadb",
   "metadata": {},
   "outputs": [
    {
     "name": "stdout",
     "output_type": "stream",
     "text": [
      "Ingresa un numero: 25\n",
      "25\n",
      "<class 'str'>\n"
     ]
    }
   ],
   "source": [
    "my_input = input(\"Ingresa un numero: \")\n",
    "print(my_input)\n",
    "print(type(my_input))\n",
    "# Cadena o String"
   ]
  },
  {
   "cell_type": "code",
   "execution_count": 49,
   "id": "e45ae5bc",
   "metadata": {},
   "outputs": [
    {
     "name": "stdout",
     "output_type": "stream",
     "text": [
      "Ingresa un numero: 25\n",
      "25\n",
      "<class 'int'>\n"
     ]
    }
   ],
   "source": [
    "my_input = eval(input(\"Ingresa un numero: \"))\n",
    "print(my_input)\n",
    "print(type(my_input))\n",
    "# Int o Entero "
   ]
  },
  {
   "cell_type": "markdown",
   "id": "1b158901",
   "metadata": {},
   "source": [
    "# Funcion range() y xrange()"
   ]
  },
  {
   "cell_type": "code",
   "execution_count": 50,
   "id": "61b5f480",
   "metadata": {},
   "outputs": [],
   "source": [
    "x = range(10)"
   ]
  },
  {
   "cell_type": "code",
   "execution_count": 51,
   "id": "9f8b0898",
   "metadata": {},
   "outputs": [
    {
     "data": {
      "text/plain": [
       "range(0, 10)"
      ]
     },
     "execution_count": 51,
     "metadata": {},
     "output_type": "execute_result"
    }
   ],
   "source": [
    "x"
   ]
  },
  {
   "cell_type": "code",
   "execution_count": 53,
   "id": "49d83249",
   "metadata": {},
   "outputs": [
    {
     "name": "stdout",
     "output_type": "stream",
     "text": [
      "0\n",
      "1\n",
      "2\n",
      "3\n",
      "4\n",
      "5\n",
      "6\n",
      "7\n",
      "8\n",
      "9\n"
     ]
    }
   ],
   "source": [
    "for number in x: \n",
    "    print(number)"
   ]
  },
  {
   "cell_type": "code",
   "execution_count": 54,
   "id": "83844ecd",
   "metadata": {},
   "outputs": [
    {
     "name": "stdout",
     "output_type": "stream",
     "text": [
      "3\n",
      "4\n",
      "5\n"
     ]
    }
   ],
   "source": [
    "x = range(3,6)\n",
    "for number in x: \n",
    "    print(number)"
   ]
  },
  {
   "cell_type": "code",
   "execution_count": 55,
   "id": "1494539a",
   "metadata": {},
   "outputs": [
    {
     "name": "stdout",
     "output_type": "stream",
     "text": [
      "3\n",
      "5\n",
      "7\n",
      "9\n",
      "11\n",
      "13\n",
      "15\n",
      "17\n",
      "19\n"
     ]
    }
   ],
   "source": [
    "x = range(3,20,2)\n",
    "for number in x:\n",
    "    print(number)"
   ]
  },
  {
   "cell_type": "markdown",
   "id": "9d2eb1fe",
   "metadata": {},
   "source": [
    "## Mutabilidad e Inmutabilidad "
   ]
  },
  {
   "cell_type": "code",
   "execution_count": 57,
   "id": "6bff3bbc",
   "metadata": {},
   "outputs": [],
   "source": [
    "tuple1 = (1,2,3,4,5)"
   ]
  },
  {
   "cell_type": "code",
   "execution_count": 58,
   "id": "9a3c13a2",
   "metadata": {},
   "outputs": [
    {
     "data": {
      "text/plain": [
       "(1, 2, 3, 4, 5)"
      ]
     },
     "execution_count": 58,
     "metadata": {},
     "output_type": "execute_result"
    }
   ],
   "source": [
    "tuple1"
   ]
  },
  {
   "cell_type": "code",
   "execution_count": 60,
   "id": "1efe3e60",
   "metadata": {},
   "outputs": [],
   "source": [
    "#Inmutabilidad "
   ]
  },
  {
   "cell_type": "code",
   "execution_count": 61,
   "id": "4ce57ae4",
   "metadata": {},
   "outputs": [
    {
     "ename": "TypeError",
     "evalue": "'tuple' object does not support item assignment",
     "output_type": "error",
     "traceback": [
      "\u001b[0;31m---------------------------------------------------------------------------\u001b[0m",
      "\u001b[0;31mTypeError\u001b[0m                                 Traceback (most recent call last)",
      "Cell \u001b[0;32mIn[61], line 1\u001b[0m\n\u001b[0;32m----> 1\u001b[0m tuple1[\u001b[38;5;241m0\u001b[39m] \u001b[38;5;241m=\u001b[39m \u001b[38;5;241m10\u001b[39m\n",
      "\u001b[0;31mTypeError\u001b[0m: 'tuple' object does not support item assignment"
     ]
    }
   ],
   "source": [
    "tuple1[0] = 10"
   ]
  },
  {
   "cell_type": "code",
   "execution_count": 62,
   "id": "eaf79322",
   "metadata": {},
   "outputs": [],
   "source": [
    "colors = [\"Rojo\",\"Azul\",\"Negro\",\"Naranja\"]"
   ]
  },
  {
   "cell_type": "code",
   "execution_count": 63,
   "id": "dc8415f7",
   "metadata": {},
   "outputs": [
    {
     "data": {
      "text/plain": [
       "['Rojo', 'Azul', 'Negro', 'Naranja']"
      ]
     },
     "execution_count": 63,
     "metadata": {},
     "output_type": "execute_result"
    }
   ],
   "source": [
    "colors"
   ]
  },
  {
   "cell_type": "code",
   "execution_count": 64,
   "id": "5def0ede",
   "metadata": {},
   "outputs": [],
   "source": [
    "colors[0] = \"Blanco\""
   ]
  },
  {
   "cell_type": "code",
   "execution_count": 65,
   "id": "3674e958",
   "metadata": {},
   "outputs": [
    {
     "data": {
      "text/plain": [
       "['Blanco', 'Azul', 'Negro', 'Naranja']"
      ]
     },
     "execution_count": 65,
     "metadata": {},
     "output_type": "execute_result"
    }
   ],
   "source": [
    "colors"
   ]
  },
  {
   "cell_type": "markdown",
   "id": "058200ad",
   "metadata": {},
   "source": [
    "## Funcion Print"
   ]
  },
  {
   "cell_type": "code",
   "execution_count": 66,
   "id": "b5110d3d",
   "metadata": {},
   "outputs": [],
   "source": [
    "# Mostrar un resultado "
   ]
  },
  {
   "cell_type": "code",
   "execution_count": 67,
   "id": "4fc597d6",
   "metadata": {},
   "outputs": [
    {
     "name": "stdout",
     "output_type": "stream",
     "text": [
      "El valor de mi variable es  157\n"
     ]
    }
   ],
   "source": [
    "my_variable = 157\n",
    "print(\"El valor de mi variable es \", my_variable)"
   ]
  },
  {
   "cell_type": "code",
   "execution_count": 68,
   "id": "cd98c512",
   "metadata": {},
   "outputs": [
    {
     "name": "stdout",
     "output_type": "stream",
     "text": [
      "El calor de D es:  800\n"
     ]
    }
   ],
   "source": [
    "a=100\n",
    "b=500\n",
    "c=200\n",
    "d=a+b+c\n",
    "\n",
    "print(\"El calor de D es: \",d)"
   ]
  },
  {
   "cell_type": "code",
   "execution_count": 69,
   "id": "52ede6b4",
   "metadata": {},
   "outputs": [],
   "source": [
    "import builtins\n"
   ]
  },
  {
   "cell_type": "code",
   "execution_count": 70,
   "id": "d907200c",
   "metadata": {},
   "outputs": [
    {
     "name": "stdout",
     "output_type": "stream",
     "text": [
      "Help on built-in function print in module builtins:\n",
      "\n",
      "print(*args, sep=' ', end='\\n', file=None, flush=False)\n",
      "    Prints the values to a stream, or to sys.stdout by default.\n",
      "    \n",
      "    sep\n",
      "      string inserted between values, default a space.\n",
      "    end\n",
      "      string appended after the last value, default a newline.\n",
      "    file\n",
      "      a file-like object (stream); defaults to the current sys.stdout.\n",
      "    flush\n",
      "      whether to forcibly flush the stream.\n",
      "\n"
     ]
    }
   ],
   "source": [
    "help(builtins.print)"
   ]
  },
  {
   "cell_type": "code",
   "execution_count": 71,
   "id": "55abc6ff",
   "metadata": {},
   "outputs": [
    {
     "name": "stdout",
     "output_type": "stream",
     "text": [
      "Help on built-in function print in module builtins:\n",
      "\n",
      "print(*args, sep=' ', end='\\n', file=None, flush=False)\n",
      "    Prints the values to a stream, or to sys.stdout by default.\n",
      "    \n",
      "    sep\n",
      "      string inserted between values, default a space.\n",
      "    end\n",
      "      string appended after the last value, default a newline.\n",
      "    file\n",
      "      a file-like object (stream); defaults to the current sys.stdout.\n",
      "    flush\n",
      "      whether to forcibly flush the stream.\n",
      "\n"
     ]
    }
   ],
   "source": [
    "help(print)"
   ]
  },
  {
   "cell_type": "code",
   "execution_count": 72,
   "id": "970ea4b9",
   "metadata": {},
   "outputs": [
    {
     "data": {
      "text/plain": [
       "['ArithmeticError',\n",
       " 'AssertionError',\n",
       " 'AttributeError',\n",
       " 'BaseException',\n",
       " 'BaseExceptionGroup',\n",
       " 'BlockingIOError',\n",
       " 'BrokenPipeError',\n",
       " 'BufferError',\n",
       " 'BytesWarning',\n",
       " 'ChildProcessError',\n",
       " 'ConnectionAbortedError',\n",
       " 'ConnectionError',\n",
       " 'ConnectionRefusedError',\n",
       " 'ConnectionResetError',\n",
       " 'DeprecationWarning',\n",
       " 'EOFError',\n",
       " 'Ellipsis',\n",
       " 'EncodingWarning',\n",
       " 'EnvironmentError',\n",
       " 'Exception',\n",
       " 'ExceptionGroup',\n",
       " 'False',\n",
       " 'FileExistsError',\n",
       " 'FileNotFoundError',\n",
       " 'FloatingPointError',\n",
       " 'FutureWarning',\n",
       " 'GeneratorExit',\n",
       " 'IOError',\n",
       " 'ImportError',\n",
       " 'ImportWarning',\n",
       " 'IndentationError',\n",
       " 'IndexError',\n",
       " 'InterruptedError',\n",
       " 'IsADirectoryError',\n",
       " 'KeyError',\n",
       " 'KeyboardInterrupt',\n",
       " 'LookupError',\n",
       " 'MemoryError',\n",
       " 'ModuleNotFoundError',\n",
       " 'NameError',\n",
       " 'None',\n",
       " 'NotADirectoryError',\n",
       " 'NotImplemented',\n",
       " 'NotImplementedError',\n",
       " 'OSError',\n",
       " 'OverflowError',\n",
       " 'PendingDeprecationWarning',\n",
       " 'PermissionError',\n",
       " 'ProcessLookupError',\n",
       " 'RecursionError',\n",
       " 'ReferenceError',\n",
       " 'ResourceWarning',\n",
       " 'RuntimeError',\n",
       " 'RuntimeWarning',\n",
       " 'StopAsyncIteration',\n",
       " 'StopIteration',\n",
       " 'SyntaxError',\n",
       " 'SyntaxWarning',\n",
       " 'SystemError',\n",
       " 'SystemExit',\n",
       " 'TabError',\n",
       " 'TimeoutError',\n",
       " 'True',\n",
       " 'TypeError',\n",
       " 'UnboundLocalError',\n",
       " 'UnicodeDecodeError',\n",
       " 'UnicodeEncodeError',\n",
       " 'UnicodeError',\n",
       " 'UnicodeTranslateError',\n",
       " 'UnicodeWarning',\n",
       " 'UserWarning',\n",
       " 'ValueError',\n",
       " 'Warning',\n",
       " 'ZeroDivisionError',\n",
       " '__IPYTHON__',\n",
       " '__build_class__',\n",
       " '__debug__',\n",
       " '__doc__',\n",
       " '__import__',\n",
       " '__loader__',\n",
       " '__name__',\n",
       " '__package__',\n",
       " '__spec__',\n",
       " 'abs',\n",
       " 'aiter',\n",
       " 'all',\n",
       " 'anext',\n",
       " 'any',\n",
       " 'ascii',\n",
       " 'bin',\n",
       " 'bool',\n",
       " 'breakpoint',\n",
       " 'bytearray',\n",
       " 'bytes',\n",
       " 'callable',\n",
       " 'chr',\n",
       " 'classmethod',\n",
       " 'compile',\n",
       " 'complex',\n",
       " 'copyright',\n",
       " 'credits',\n",
       " 'delattr',\n",
       " 'dict',\n",
       " 'dir',\n",
       " 'display',\n",
       " 'divmod',\n",
       " 'enumerate',\n",
       " 'eval',\n",
       " 'exec',\n",
       " 'execfile',\n",
       " 'filter',\n",
       " 'float',\n",
       " 'format',\n",
       " 'frozenset',\n",
       " 'get_ipython',\n",
       " 'getattr',\n",
       " 'globals',\n",
       " 'hasattr',\n",
       " 'hash',\n",
       " 'help',\n",
       " 'hex',\n",
       " 'id',\n",
       " 'input',\n",
       " 'int',\n",
       " 'isinstance',\n",
       " 'issubclass',\n",
       " 'iter',\n",
       " 'len',\n",
       " 'license',\n",
       " 'list',\n",
       " 'locals',\n",
       " 'map',\n",
       " 'max',\n",
       " 'memoryview',\n",
       " 'min',\n",
       " 'next',\n",
       " 'object',\n",
       " 'oct',\n",
       " 'open',\n",
       " 'ord',\n",
       " 'pow',\n",
       " 'print',\n",
       " 'property',\n",
       " 'range',\n",
       " 'repr',\n",
       " 'reversed',\n",
       " 'round',\n",
       " 'runfile',\n",
       " 'set',\n",
       " 'setattr',\n",
       " 'slice',\n",
       " 'sorted',\n",
       " 'staticmethod',\n",
       " 'str',\n",
       " 'sum',\n",
       " 'super',\n",
       " 'tuple',\n",
       " 'type',\n",
       " 'vars',\n",
       " 'zip']"
      ]
     },
     "execution_count": 72,
     "metadata": {},
     "output_type": "execute_result"
    }
   ],
   "source": [
    "dir(builtins)"
   ]
  },
  {
   "cell_type": "markdown",
   "id": "7be5b123",
   "metadata": {},
   "source": [
    "## Funcion type()"
   ]
  },
  {
   "cell_type": "code",
   "execution_count": 73,
   "id": "eabfb9c0",
   "metadata": {},
   "outputs": [
    {
     "name": "stdout",
     "output_type": "stream",
     "text": [
      "170\n"
     ]
    }
   ],
   "source": [
    "my_number=170\n",
    "print(my_number)"
   ]
  },
  {
   "cell_type": "code",
   "execution_count": 74,
   "id": "b81fd415",
   "metadata": {},
   "outputs": [
    {
     "name": "stdout",
     "output_type": "stream",
     "text": [
      "170\n",
      "<class 'int'>\n"
     ]
    }
   ],
   "source": [
    "my_number=170\n",
    "print(my_number)\n",
    "print(type(my_number))"
   ]
  },
  {
   "cell_type": "code",
   "execution_count": 75,
   "id": "6096b9e8",
   "metadata": {},
   "outputs": [
    {
     "name": "stdout",
     "output_type": "stream",
     "text": [
      "Este es mi String\n",
      "<class 'str'>\n"
     ]
    }
   ],
   "source": [
    "my_string = \"Este es mi String\"\n",
    "print(my_string)\n",
    "print(type(my_string))"
   ]
  },
  {
   "cell_type": "code",
   "execution_count": 76,
   "id": "73c8f305",
   "metadata": {},
   "outputs": [
    {
     "name": "stdout",
     "output_type": "stream",
     "text": [
      "52.36\n",
      "<class 'float'>\n"
     ]
    }
   ],
   "source": [
    "my_float = 52.36\n",
    "print(my_float)\n",
    "print(type(my_float))"
   ]
  },
  {
   "cell_type": "code",
   "execution_count": 77,
   "id": "94fe97d8",
   "metadata": {},
   "outputs": [
    {
     "name": "stdout",
     "output_type": "stream",
     "text": [
      "\n",
      "<class 'str'>\n"
     ]
    }
   ],
   "source": [
    "my_string = \"\"\n",
    "print(my_string)\n",
    "print(type(my_string))"
   ]
  },
  {
   "cell_type": "code",
   "execution_count": 78,
   "id": "8dccd037",
   "metadata": {},
   "outputs": [
    {
     "name": "stdout",
     "output_type": "stream",
     "text": [
      "True\n",
      "<class 'bool'>\n"
     ]
    }
   ],
   "source": [
    "my_bool = True\n",
    "print(my_bool)\n",
    "print(type(my_bool))"
   ]
  },
  {
   "cell_type": "markdown",
   "id": "040b9415",
   "metadata": {},
   "source": [
    "# Estructura de datos "
   ]
  },
  {
   "cell_type": "code",
   "execution_count": 79,
   "id": "4e8317c9",
   "metadata": {},
   "outputs": [
    {
     "name": "stdout",
     "output_type": "stream",
     "text": [
      "[1, 7, 4, 6]\n",
      "<class 'list'>\n"
     ]
    }
   ],
   "source": [
    "#Listas \n",
    "my_List = [1,7,4,6]\n",
    "print(my_List)\n",
    "print(type(my_List))"
   ]
  },
  {
   "cell_type": "code",
   "execution_count": 80,
   "id": "fa4867ec",
   "metadata": {},
   "outputs": [
    {
     "name": "stdout",
     "output_type": "stream",
     "text": [
      "(1, 5, 10, 6)\n",
      "<class 'tuple'>\n"
     ]
    }
   ],
   "source": [
    "#Tupla \n",
    "my_tuple = (1,5,10,6)\n",
    "print(my_tuple)\n",
    "print(type(my_tuple))"
   ]
  },
  {
   "cell_type": "code",
   "execution_count": 82,
   "id": "053279cf",
   "metadata": {},
   "outputs": [
    {
     "name": "stdout",
     "output_type": "stream",
     "text": [
      "{0.08, 1, 2, 5.23, 54, 'Mi set'}\n",
      "<class 'set'>\n"
     ]
    }
   ],
   "source": [
    "#set\n",
    "my_set = {1,2,\"Mi set\",54,5.23,.08}\n",
    "print(my_set)\n",
    "print(type(my_set))"
   ]
  },
  {
   "cell_type": "code",
   "execution_count": 83,
   "id": "2612692e",
   "metadata": {},
   "outputs": [
    {
     "name": "stdout",
     "output_type": "stream",
     "text": [
      "{'a': 20, 'b': 50, 'c': 35}\n",
      "<class 'dict'>\n"
     ]
    }
   ],
   "source": [
    "#Diccionario \n",
    "my_dictionary = {\"a\":20,\"b\":50,\"c\":35}\n",
    "print(my_dictionary)\n",
    "print(type(my_dictionary))"
   ]
  },
  {
   "cell_type": "code",
   "execution_count": 84,
   "id": "ca0b3337",
   "metadata": {},
   "outputs": [
    {
     "name": "stdout",
     "output_type": "stream",
     "text": [
      "100\n"
     ]
    }
   ],
   "source": [
    "print(a)"
   ]
  },
  {
   "cell_type": "markdown",
   "id": "45fa6286",
   "metadata": {},
   "source": [
    "## Funcion id()\n"
   ]
  },
  {
   "cell_type": "markdown",
   "id": "388672fb",
   "metadata": {},
   "source": [
    "### Funcion para obtener direccion de memoria "
   ]
  },
  {
   "cell_type": "code",
   "execution_count": 85,
   "id": "8e7299da",
   "metadata": {},
   "outputs": [
    {
     "name": "stdout",
     "output_type": "stream",
     "text": [
      "Python\n",
      "<class 'str'>\n",
      "4420967192\n"
     ]
    }
   ],
   "source": [
    "my_string = \"Python\"\n",
    "print(my_string)\n",
    "print(type(my_string))\n",
    "print(id(my_string))"
   ]
  },
  {
   "cell_type": "code",
   "execution_count": 86,
   "id": "ece6caad",
   "metadata": {},
   "outputs": [
    {
     "name": "stdout",
     "output_type": "stream",
     "text": [
      "Backend\n",
      "<class 'str'>\n",
      "4500777520\n"
     ]
    }
   ],
   "source": [
    "my_string2 = \"Backend\"\n",
    "print(my_string2)\n",
    "print(type(my_string2))\n",
    "print(id(my_string2))"
   ]
  },
  {
   "cell_type": "code",
   "execution_count": 87,
   "id": "018a87a5",
   "metadata": {},
   "outputs": [
    {
     "name": "stdout",
     "output_type": "stream",
     "text": [
      "Python\n",
      "Python\n",
      "<class 'str'>\n",
      "<class 'str'>\n",
      "4420967192\n",
      "4420967192\n"
     ]
    }
   ],
   "source": [
    "my_string = \"Python\"\n",
    "my_string3 = \"Python\"\n",
    "print(my_string)\n",
    "print(my_string3)\n",
    "print(type(my_string))\n",
    "print(type(my_string3))\n",
    "print(id(my_string))\n",
    "print(id(my_string3))"
   ]
  },
  {
   "cell_type": "markdown",
   "id": "ebedb009",
   "metadata": {},
   "source": [
    "## Múltiples Valores de entrada "
   ]
  },
  {
   "cell_type": "code",
   "execution_count": 88,
   "id": "96ab91d9",
   "metadata": {},
   "outputs": [
    {
     "name": "stdout",
     "output_type": "stream",
     "text": [
      "Ingresa un numero: 165\n",
      "El valor de numero es:  165\n"
     ]
    }
   ],
   "source": [
    "my_number = input(\"Ingresa un numero: \")\n",
    "print(\"El valor de numero es: \",my_number)"
   ]
  },
  {
   "cell_type": "code",
   "execution_count": 90,
   "id": "d704c4b2",
   "metadata": {},
   "outputs": [
    {
     "name": "stdout",
     "output_type": "stream",
     "text": [
      "Ingresa 3 numeros: 100 200 5\n",
      "El valor de a es:  100\n",
      "El valor de b es:  200\n",
      "El valor de c: es:  5\n"
     ]
    }
   ],
   "source": [
    "a,b,c = input(\"Ingresa 3 numeros: \").split()\n",
    "print(\"El valor de a es: \",a)\n",
    "print(\"El valor de b es: \",b)\n",
    "print(\"El valor de c: es: \",c)"
   ]
  },
  {
   "cell_type": "code",
   "execution_count": 91,
   "id": "4f4adacd",
   "metadata": {},
   "outputs": [
    {
     "name": "stdout",
     "output_type": "stream",
     "text": [
      "Ingresa 3 numeros separados por coma: 25,85,64\n",
      "El valor de a es:  25\n",
      "El valor de b es:  85\n",
      "El valor de c: es:  64\n"
     ]
    }
   ],
   "source": [
    "a,b,c = input(\"Ingresa 3 numeros separados por coma: \").split(\",\")\n",
    "print(\"El valor de a es: \",a)\n",
    "print(\"El valor de b es: \",b)\n",
    "print(\"El valor de c: es: \",c)"
   ]
  },
  {
   "cell_type": "code",
   "execution_count": null,
   "id": "00c4952a",
   "metadata": {},
   "outputs": [],
   "source": []
  }
 ],
 "metadata": {
  "kernelspec": {
   "display_name": "Python 3 (ipykernel)",
   "language": "python",
   "name": "python3"
  },
  "language_info": {
   "codemirror_mode": {
    "name": "ipython",
    "version": 3
   },
   "file_extension": ".py",
   "mimetype": "text/x-python",
   "name": "python",
   "nbconvert_exporter": "python",
   "pygments_lexer": "ipython3",
   "version": "3.11.3"
  }
 },
 "nbformat": 4,
 "nbformat_minor": 5
}
