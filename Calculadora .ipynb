{
 "cells": [
  {
   "cell_type": "code",
   "execution_count": 31,
   "id": "b147ad3b",
   "metadata": {},
   "outputs": [
    {
     "name": "stdout",
     "output_type": "stream",
     "text": [
      "*****Bienvenido a mi calculadora*****\n",
      "Coloca 2 numeros separados por comas 5,8\n",
      "Indica la operacion a realizar: 1.- suma, 2.- resta, 3.-multiplicacion, 4.- division y 5.- potencia4\n",
      " \n",
      "///DIVISION///\n",
      " \n",
      "Los numeros a division son 5 y 8\n",
      " \n",
      "El resultado de la division es:  0.625\n"
     ]
    }
   ],
   "source": [
    "# En este ejercicio se realizara una calculadora, preguntando al usuario los dos numeros y el tipo de operacion \n",
    "# asi como punto extra aceptara operaciones en numero binarios \n",
    "print(\"*****Bienvenido a mi calculadora*****\")\n",
    "num1 = 0\n",
    "num2 = 0\n",
    "num3 = 0\n",
    "\n",
    "op = 0\n",
    "num1,num2 = input(\"Coloca 2 numeros separados por comas \").split(\",\")\n",
    "op = int(input(\"Indica la operacion a realizar: 1.- suma, 2.- resta, 3.-multiplicacion, 4.- division y 5.- potencia\"))\n",
    "if op == 1:\n",
    "    print(\" \")\n",
    "    print(\"+++SUMA+++\")\n",
    "    print(\" \")\n",
    "    print(\"Los numeros a sumar son \" + num1 + \" y \"+ num2)\n",
    "    num3 = int(num1)+int(num2)\n",
    "    print(\" \")\n",
    "    print(\"El resultado de la suma es: \",num3)\n",
    "elif op == 2:\n",
    "    print(\" \")\n",
    "    print(\"---RESTA---\")\n",
    "    print(\" \")\n",
    "    print(\"Los numeros a resta son \" + num1 + \" y \"+ num2)\n",
    "    num3 = int(num1)-int(num2)\n",
    "    print(\" \")\n",
    "    print(\"El resultado de la resta es: \",num3)\n",
    "elif op == 3:\n",
    "    print(\" \")\n",
    "    print(\"***MULTIPLICACION***\")\n",
    "    print(\" \")\n",
    "    print(\"Los numeros a Multiplicacion son \" + num1 + \" y \"+ num2)\n",
    "    num3 = int(num1)*int(num2)\n",
    "    print(\" \")\n",
    "    print(\"El resultado de la multiplicacion es: \",num3)\n",
    "elif op == 4:\n",
    "    print(\" \")\n",
    "    print(\"///DIVISION///\")\n",
    "    print(\" \")\n",
    "    print(\"Los numeros a division son \" + num1 + \" y \"+ num2)\n",
    "    num3 = int(num1)/int(num2)\n",
    "    print(\" \")\n",
    "    print(\"El resultado de la division es: \",num3)\n",
    "elif op == 5:\n",
    "    print(\" \")\n",
    "    print(\"^^^POTENCIA^^^\")\n",
    "    print(\" \")\n",
    "    print(\"Los numeros a potencia son \" + num1 + \" y \"+ num2)\n",
    "    num3 = int(num1)**int(num2)\n",
    "    print(\" \")\n",
    "    print(\"El resultado de la resta es: \",num3)\n",
    "else:\n",
    "    print(\"No seleccionaste nada de la lista...\")\n"
   ]
  },
  {
   "cell_type": "code",
   "execution_count": null,
   "id": "f0f5c42a",
   "metadata": {},
   "outputs": [],
   "source": []
  },
  {
   "cell_type": "code",
   "execution_count": null,
   "id": "fead32e0",
   "metadata": {},
   "outputs": [],
   "source": []
  },
  {
   "cell_type": "code",
   "execution_count": null,
   "id": "c1f68213",
   "metadata": {},
   "outputs": [],
   "source": []
  },
  {
   "cell_type": "code",
   "execution_count": null,
   "id": "dab1325d",
   "metadata": {},
   "outputs": [],
   "source": []
  },
  {
   "cell_type": "code",
   "execution_count": null,
   "id": "e4441939",
   "metadata": {},
   "outputs": [],
   "source": []
  }
 ],
 "metadata": {
  "kernelspec": {
   "display_name": "Python 3 (ipykernel)",
   "language": "python",
   "name": "python3"
  },
  "language_info": {
   "codemirror_mode": {
    "name": "ipython",
    "version": 3
   },
   "file_extension": ".py",
   "mimetype": "text/x-python",
   "name": "python",
   "nbconvert_exporter": "python",
   "pygments_lexer": "ipython3",
   "version": "3.11.3"
  }
 },
 "nbformat": 4,
 "nbformat_minor": 5
}
