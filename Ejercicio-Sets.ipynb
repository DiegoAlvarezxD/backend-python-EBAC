{
 "cells": [
  {
   "cell_type": "code",
   "execution_count": 2,
   "id": "e7f24484",
   "metadata": {},
   "outputs": [
    {
     "name": "stdout",
     "output_type": "stream",
     "text": [
      "{'5555', '3CC3', 'B66B', 'BB11', 'A55A', '9AA9', '33AA', '4CC4', 'A33A', '0DD0', '66AA', '0D0D', 'CC22', 'B22B', 'D2D2', 'A5A5', '1AA1', 'A77A', '77BB', 'A88A', '9BB9', '0AA0', '1DD1', '33DD', 'D5D5', 'CC66', 'C22C', '2BB2', 'B88B', '2222', 'B3B3', '22DD', 'B0B0', 'AA44', 'D55D', '7C7C', 'C88C', '0C0C', '3BB3', 'D0D0', 'A9A9', 'A99A', '22AA', '9B9B', 'D99D', 'AA66', '2CC2', 'DD11', '33BB', '3B3B', 'AA77', 'D22D', 'A66A', '00BB', 'DD77', '2B2B', '8888', '8BB8', '4A4A', 'A44A', '4BB4', 'C77C', '3333', '9DD9', '7DD7', '5CC5', 'A11A', 'B55B', '88CC', 'B9B9', 'D11D', '99AA', 'CCCC', 'B1B1', '8B8B', 'AA22', '6DD6', 'D9D9', '55DD', 'D6D6', '2AA2', '44CC', '4D4D', 'B33B', 'D4D4', 'B7B7', 'A22A', 'A2A2', 'A6A6', 'B2B2', '0BB0', 'C99C', 'C44C', '1B1B', 'B11B', 'AA00', 'B8B8', '1A1A', 'AA55', '5D5D', 'BB66', '1BB1', 'AA99', 'D88D', 'D00D', '2A2A', '1D1D', 'AA11', 'D7D7', '6CC6', 'BBBB', '8A8A', 'AA88', '77CC', '9C9C', '3C3C', 'D44D', '6B6B', 'A00A', '8AA8', 'C8C8', 'C3C3', '7B7B', '44DD', '11AA', '4AA4', '77AA', '00AA', 'DD99', '5B5B', 'DD33', '44BB', '11BB', '66CC', 'CC55', '2D2D', '00CC', '6AA6', 'D77D', 'B4B4', 'DD88', '55CC', '9D9D', '1CC1', '7D7D', 'D8D8', 'A4A4', 'C9C9', 'C33C', '55AA', '8CC8', '0000', '3AA3', 'C2C2', '3A3A', 'DD00', '1111', 'A0A0', '7CC7', '88DD', '0A0A', '8C8C', '2DD2', '9999', 'CC77', 'C11C', '66BB', '22BB', 'B44B', '6666', 'DD55', '4B4B', '99BB', 'CC44', 'A7A7', '22CC', '2C2C', '99DD', '7777', 'DD44', '88AA', '6BB6', 'C1C1', 'D66D', 'DD66', '4DD4', 'BB33', '99CC', 'C55C', '66DD', '5A5A', 'BB44', '1C1C', 'BB00', 'D3D3', '6A6A', 'A3A3', '0B0B', '55BB', 'D1D1', '44AA', 'BB99', '00DD', '6D6D', 'C7C7', '3D3D', 'CC99', 'B5B5', '7BB7', 'B00B', 'BB55', '7AA7', 'B77B', '9A9A', '8DD8', 'C66C', 'A8A8', 'CC11', '3DD3', 'BB22', 'CC00', '4444', '5AA5', 'AA33', '5DD5', '7A7A', '77DD', '11CC', '9CC9', 'B99B', 'C00C', '6C6C', '4C4C', '5BB5', '5C5C', 'BB77', 'DDDD', 'DD22', '0CC0', 'CC33', '33CC', 'C6C6', 'C4C4', '88BB', 'A1A1', 'D33D', 'CC88', 'C0C0', 'BB88', 'B6B6', '8D8D', 'C5C5', '11DD', 'AAAA'}\n"
     ]
    }
   ],
   "source": [
    "numbers = ['0', '1', '2', '3', '4', '5', '6', '7', '8', '9']\n",
    "letters = ['A', 'B', 'C', 'D'] \n",
    "unique_combinations = set() \n",
    "for number in numbers:    \n",
    "    for letter in letters:        \n",
    "        unique_combinations.add(\"{}{}{}{}\".format(number,number,number,number))        \n",
    "        unique_combinations.add(\"{}{}{}{}\".format(number,number,letter,letter))        \n",
    "        unique_combinations.add(\"{}{}{}{}\".format(number,letter,number,letter))        \n",
    "        unique_combinations.add(\"{}{}{}{}\".format(number,letter,letter,number))        \n",
    "        unique_combinations.add(\"{}{}{}{}\".format(letter,number,number,letter))        \n",
    "        unique_combinations.add(\"{}{}{}{}\".format(letter,letter,number,number))        \n",
    "        unique_combinations.add(\"{}{}{}{}\".format(letter,number,letter,number))       \n",
    "        unique_combinations.add(\"{}{}{}{}\".format(letter,letter,letter,letter))        \n",
    "\n",
    "print(unique_combinations)"
   ]
  },
  {
   "cell_type": "code",
   "execution_count": null,
   "id": "efdfd1ea",
   "metadata": {},
   "outputs": [],
   "source": []
  }
 ],
 "metadata": {
  "kernelspec": {
   "display_name": "Python 3 (ipykernel)",
   "language": "python",
   "name": "python3"
  },
  "language_info": {
   "codemirror_mode": {
    "name": "ipython",
    "version": 3
   },
   "file_extension": ".py",
   "mimetype": "text/x-python",
   "name": "python",
   "nbconvert_exporter": "python",
   "pygments_lexer": "ipython3",
   "version": "3.11.3"
  }
 },
 "nbformat": 4,
 "nbformat_minor": 5
}
