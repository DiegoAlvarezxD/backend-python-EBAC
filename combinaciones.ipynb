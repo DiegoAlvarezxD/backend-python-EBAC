{
 "cells": [
  {
   "cell_type": "code",
   "execution_count": 1,
   "id": "8d02afa0",
   "metadata": {},
   "outputs": [
    {
     "name": "stdout",
     "output_type": "stream",
     "text": [
      "{'4AA', '6A6', '0AA', 'A8A', '1B1', '22D', 'C00', '2DD', '3DD', 'BB5', '9DD', 'C2C', 'A33', '33D', 'A77', 'AA3', 'D1D', 'A1A', 'A66', '2D2', 'D8D', 'CC5', 'BB3', 'C9C', '8DD', '4C4', '2CC', '1DD', '0A0', 'C5C', '5DD', '66B', '999', 'A00', 'CC8', 'DD9', '55B', 'C44', '3C3', '77B', '66C', 'C99', 'D5D', '1AA', '00C', '11C', '77C', 'B33', 'C11', 'B22', 'B55', '5D5', 'AA6', '99C', 'A5A', '7CC', '11A', 'D6D', 'CC7', 'BBB', 'A11', '33C', '7D7', '9D9', '444', '9BB', '7B7', 'B2B', 'C4C', 'B6B', '4A4', 'DD2', 'C1C', '44D', 'DD8', 'DDD', '3B3', 'C6C', 'C88', 'B77', 'D2D', '1D1', 'A99', 'D11', '9CC', 'B4B', '22B', '3A3', 'A3A', '33A', '0D0', 'A4A', 'C0C', 'DD3', '777', '0CC', 'C33', '11B', '44A', 'BB1', 'B3B', '5B5', 'A7A', '22A', '555', '0B0', '6CC', '3AA', 'B11', 'C8C', '9AA', 'A2A', 'D0D', '88C', '4D4', '8D8', 'AA9', 'AA4', '3CC', 'D33', 'BB0', 'C7C', '8C8', 'DD1', 'A55', 'B0B', '6BB', '88D', 'B99', '888', 'D9D', '55A', '7DD', 'D66', '77A', '4B4', '44C', '2A2', '7C7', 'D4D', 'B88', '333', '5AA', '6B6', '1BB', '9B9', 'D00', '5C5', 'D7D', '44B', 'A22', 'CC1', 'D22', 'D77', '222', 'C55', '666', '99D', 'AA5', '22C', 'C66', '0DD', '2C2', 'D3D', 'CC6', '6D6', '2BB', 'DD5', 'B8B', 'BB9', 'B9B', 'AA8', '6C6', '1CC', 'AA7', '8AA', 'B5B', '9A9', '1A1', 'DD0', 'B44', '55D', 'A9A', 'A88', '111', '00A', 'A44', 'C3C', '5A5', '3D3', '9C9', '000', 'BB4', '8BB', '4DD', 'D99', 'CC2', '88B', '8B8', '6DD', '00D', '7AA', '2AA', '33B', 'D55', '66A', '6AA', 'A6A', 'AA0', 'DD4', 'B66', '66D', 'DD7', 'AA2', '8A8', 'B1B', 'BB7', 'C22', '88A', 'CC4', 'C77', '7A7', '4CC', '77D', 'A0A', '11D', 'CC3', '0C0', 'BB2', 'CCC', 'DD6', '7BB', 'B7B', 'BB8', 'AAA', 'CC0', 'CC9', '99B', 'BB6', '99A', '0BB', '4BB', '5CC', '00B', '3BB', '55C', '5BB', 'D88', '8CC', 'AA1', '2B2', 'B00', 'D44', '1C1'}\n"
     ]
    }
   ],
   "source": [
    "numbers = ['0', '1', '2', '3', '4', '5', '6', '7', '8', '9'] \n",
    "letters = ['A', 'B', 'C', 'D'] \n",
    "unique_combinations = set() \n",
    "for number in numbers:    \n",
    "    for letter in letters:        \n",
    "        unique_combinations.add(\"{}{}{}\".format(number,number,number))        \n",
    "        unique_combinations.add(\"{}{}{}\".format(number,number,letter))        \n",
    "        unique_combinations.add(\"{}{}{}\".format(number,letter,number))        \n",
    "        unique_combinations.add(\"{}{}{}\".format(number,letter,letter))        \n",
    "        unique_combinations.add(\"{}{}{}\".format(letter,number,number))        \n",
    "        unique_combinations.add(\"{}{}{}\".format(letter,letter,number))        \n",
    "        unique_combinations.add(\"{}{}{}\".format(letter,number,letter))        \n",
    "        unique_combinations.add(\"{}{}{}\".format(letter,letter,letter))       \n",
    "        \n",
    "print(unique_combinations)"
   ]
  },
  {
   "cell_type": "code",
   "execution_count": null,
   "id": "1fd7c94a",
   "metadata": {},
   "outputs": [],
   "source": []
  }
 ],
 "metadata": {
  "kernelspec": {
   "display_name": "Python 3 (ipykernel)",
   "language": "python",
   "name": "python3"
  },
  "language_info": {
   "codemirror_mode": {
    "name": "ipython",
    "version": 3
   },
   "file_extension": ".py",
   "mimetype": "text/x-python",
   "name": "python",
   "nbconvert_exporter": "python",
   "pygments_lexer": "ipython3",
   "version": "3.11.3"
  }
 },
 "nbformat": 4,
 "nbformat_minor": 5
}
