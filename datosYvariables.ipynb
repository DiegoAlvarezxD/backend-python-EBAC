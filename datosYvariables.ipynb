{
 "cells": [
  {
   "cell_type": "markdown",
   "id": "a66e996f",
   "metadata": {},
   "source": [
    "# Panorama \n",
    "\n",
    "int - Integer/Enteros\n",
    "\n",
    "float - float/numeros con decimal \n",
    "\n",
    "complex - complex/complejos (numeros con parte real y una imaginaria)\n",
    "\n",
    "bool - Boolean/valores logicos (True/False)\n",
    "\n",
    "str - String/cadena de textos \n"
   ]
  },
  {
   "cell_type": "markdown",
   "id": "85cefe05",
   "metadata": {},
   "source": [
    "# int - Integers/Enteros"
   ]
  },
  {
   "cell_type": "code",
   "execution_count": 1,
   "id": "7a761bf2",
   "metadata": {},
   "outputs": [
    {
     "name": "stdout",
     "output_type": "stream",
     "text": [
      "El valor de el entero es:  10\n",
      "El valor de dato de el entero es:  <class 'int'>\n"
     ]
    }
   ],
   "source": [
    "my_integer = 10\n",
    "print(\"El valor de el entero es: \",my_integer)\n",
    "print(\"El valor de dato de el entero es: \",type(my_integer))"
   ]
  },
  {
   "cell_type": "code",
   "execution_count": 3,
   "id": "38a8f944",
   "metadata": {},
   "outputs": [
    {
     "name": "stdout",
     "output_type": "stream",
     "text": [
      "El valor de el entero es:  10.85\n",
      "El valor de dato de el float es:  <class 'float'>\n"
     ]
    }
   ],
   "source": [
    "my_float = 10.85\n",
    "print(\"El valor de el entero es: \",my_float)\n",
    "print(\"El valor de dato de el float es: \",type(my_float))"
   ]
  },
  {
   "cell_type": "code",
   "execution_count": 4,
   "id": "44b79d27",
   "metadata": {},
   "outputs": [
    {
     "name": "stdout",
     "output_type": "stream",
     "text": [
      "El valor de el entero es:  2000.0\n",
      "El valor de dato de el float es:  <class 'float'>\n"
     ]
    }
   ],
   "source": [
    "# Notacion cientifica \n",
    "my_float = 2e3 #2.0+10**3\n",
    "print(\"El valor de el entero es: \",my_float)\n",
    "print(\"El valor de dato de el float es: \",type(my_float))"
   ]
  },
  {
   "cell_type": "markdown",
   "id": "43ce7237",
   "metadata": {},
   "source": [
    "# Complex - complex/complejos(numero real y parte imaginaria )\n",
    "\n",
    "complex = x + y \n",
    "\n",
    "x = parte real\n",
    "\n",
    "y = parte imaginaria "
   ]
  },
  {
   "cell_type": "code",
   "execution_count": 10,
   "id": "97e3b6c9",
   "metadata": {},
   "outputs": [
    {
     "name": "stdout",
     "output_type": "stream",
     "text": [
      "El valor del numero complejo es :  (3+9j)\n",
      "El tipo de dato del numero complejo es:  (3+9j)\n"
     ]
    }
   ],
   "source": [
    "my_complex = 3 + 9j\n",
    "print(\"El valor del numero complejo es : \",my_complex) \n",
    "print(\"El tipo de dato del numero complejo es: \",type(my_complex))"
   ]
  },
  {
   "cell_type": "markdown",
   "id": "59aa0514",
   "metadata": {},
   "source": [
    " # Bool - Boolean(true/false)/Valores logicos \n"
   ]
  },
  {
   "cell_type": "code",
   "execution_count": 11,
   "id": "d3abf403",
   "metadata": {},
   "outputs": [
    {
     "name": "stdout",
     "output_type": "stream",
     "text": [
      "El valor de my_boolean es:  False\n",
      "El tipo de dato de my_boolean es:  <class 'bool'>\n"
     ]
    }
   ],
   "source": [
    "my_boolean = False \n",
    "print(\"El valor de my_boolean es: \", my_boolean)\n",
    "print(\"El tipo de dato de my_boolean es: \",type(my_boolean))"
   ]
  },
  {
   "cell_type": "markdown",
   "id": "30a4d394",
   "metadata": {},
   "source": [
    "# Variables globales \n"
   ]
  },
  {
   "cell_type": "code",
   "execution_count": 17,
   "id": "967dfe95",
   "metadata": {},
   "outputs": [],
   "source": [
    "my_global_variable = 50\n",
    "\n",
    "def my_funcion():\n",
    "    pass\n",
    "\n",
    "def my_funcion_2():\n",
    "    pass\n"
   ]
  },
  {
   "cell_type": "code",
   "execution_count": 18,
   "id": "bb8ff880",
   "metadata": {},
   "outputs": [],
   "source": [
    "def my_funcion():\n",
    "    my_local_variable = 5\n",
    "\n",
    "def my_funcion_2():\n",
    "    my_local_variable = 50"
   ]
  },
  {
   "cell_type": "code",
   "execution_count": 20,
   "id": "1ab37f6a",
   "metadata": {},
   "outputs": [],
   "source": [
    "my_global_variable = 50\n",
    "\n",
    "def my_funcion():\n",
    "    print(\"my_funcion - el valor de la variable global es: \",my_global_variable)\n",
    "\n",
    "def my_funcion_2():\n",
    "    print(\"my_funcion_2 - el valor de la variable global es: \",my_global_variable)\n"
   ]
  },
  {
   "cell_type": "code",
   "execution_count": 22,
   "id": "9a8597ed",
   "metadata": {},
   "outputs": [
    {
     "name": "stdout",
     "output_type": "stream",
     "text": [
      "my_funcion - el valor de la variable global es:  50\n"
     ]
    }
   ],
   "source": [
    "my_funcion()"
   ]
  },
  {
   "cell_type": "code",
   "execution_count": 24,
   "id": "05341f77",
   "metadata": {},
   "outputs": [
    {
     "name": "stdout",
     "output_type": "stream",
     "text": [
      "my_funcion_2 - el valor de la variable global es:  50\n"
     ]
    }
   ],
   "source": [
    "my_funcion_2()"
   ]
  },
  {
   "cell_type": "code",
   "execution_count": 25,
   "id": "8a1af7d2",
   "metadata": {},
   "outputs": [],
   "source": [
    "variable = 50\n",
    "\n",
    "def my_funcion():\n",
    "    variable = 60\n",
    "    print(\"my_funcion - el valor de la variable global es: \",variable)\n",
    "\n",
    "def my_funcion_2():\n",
    "    variable = 20\n",
    "    print(\"my_funcion_2 - el valor de la variable global es: \",variable)\n",
    "    \n",
    "def my_funcion_2():\n",
    "    print(\"my_funcion_3 - el valor de la variable es: \",variable)\n"
   ]
  },
  {
   "cell_type": "code",
   "execution_count": 27,
   "id": "5507a0da",
   "metadata": {},
   "outputs": [
    {
     "name": "stdout",
     "output_type": "stream",
     "text": [
      "my_funcion - el valor de la variable global es:  60\n"
     ]
    }
   ],
   "source": [
    "my_funcion()"
   ]
  },
  {
   "cell_type": "markdown",
   "id": "284e0ea1",
   "metadata": {},
   "source": [
    "# Tipos de Enteros \n",
    "-Forma decimal \n",
    "\n",
    "-Forma Binaria \n",
    "\n",
    "-Forma octal\n",
    "\n",
    "-Forma Hexadecimal \n"
   ]
  },
  {
   "cell_type": "markdown",
   "id": "d68c5613",
   "metadata": {},
   "source": [
    "# Forma decimal \n"
   ]
  },
  {
   "cell_type": "code",
   "execution_count": 29,
   "id": "f8cf9f87",
   "metadata": {},
   "outputs": [
    {
     "name": "stdout",
     "output_type": "stream",
     "text": [
      "10\n"
     ]
    }
   ],
   "source": [
    "numero_decimal = 10\n",
    "print(numero_decimal)"
   ]
  },
  {
   "cell_type": "markdown",
   "id": "6abe5925",
   "metadata": {},
   "source": [
    "# Forma Binaria "
   ]
  },
  {
   "cell_type": "code",
   "execution_count": 37,
   "id": "fc59a70d",
   "metadata": {},
   "outputs": [
    {
     "name": "stdout",
     "output_type": "stream",
     "text": [
      "3\n"
     ]
    }
   ],
   "source": [
    "numero_binario = 0b11 # 1*2**1 + 1*2**0\n",
    "print(numero_binario)"
   ]
  },
  {
   "cell_type": "code",
   "execution_count": 38,
   "id": "62589ea9",
   "metadata": {},
   "outputs": [
    {
     "name": "stdout",
     "output_type": "stream",
     "text": [
      "7\n"
     ]
    }
   ],
   "source": [
    "numero_binario = 0B111 # 1*2**2 + 1*2**1 + 1*2**0\n",
    "print(numero_binario)"
   ]
  },
  {
   "cell_type": "markdown",
   "id": "f5204c1a",
   "metadata": {},
   "source": [
    "# Forma Octal"
   ]
  },
  {
   "cell_type": "code",
   "execution_count": 39,
   "id": "e067b59b",
   "metadata": {},
   "outputs": [
    {
     "name": "stdout",
     "output_type": "stream",
     "text": [
      "15\n"
     ]
    }
   ],
   "source": [
    "my_octal_number = 0o17 # 1*8**1 + 7*8**0\n",
    "print(my_octal_number)"
   ]
  },
  {
   "cell_type": "code",
   "execution_count": 40,
   "id": "cf606362",
   "metadata": {},
   "outputs": [
    {
     "name": "stdout",
     "output_type": "stream",
     "text": [
      "107\n"
     ]
    }
   ],
   "source": [
    "my_octal_number = 0o153 #1*8**2 + 5*8**1 + 3*8**0\n",
    "print(my_octal_number)"
   ]
  },
  {
   "cell_type": "markdown",
   "id": "84a40498",
   "metadata": {},
   "source": [
    "# Forma Hexadecimal "
   ]
  },
  {
   "cell_type": "code",
   "execution_count": 41,
   "id": "5b10ca84",
   "metadata": {},
   "outputs": [
    {
     "name": "stdout",
     "output_type": "stream",
     "text": [
      "23\n"
     ]
    }
   ],
   "source": [
    "my_hexadecimal_number = 0x17 # 1*16**1 + 7*16**0\n",
    "print(my_hexadecimal_number)"
   ]
  },
  {
   "cell_type": "code",
   "execution_count": 43,
   "id": "5552563d",
   "metadata": {},
   "outputs": [
    {
     "name": "stdout",
     "output_type": "stream",
     "text": [
      "28\n"
     ]
    }
   ],
   "source": [
    "my_hexadecimal_number = 0x1c # 1*16**1 + 12*16**0\n",
    "print(my_hexadecimal_number)"
   ]
  },
  {
   "cell_type": "code",
   "execution_count": null,
   "id": "b6f70d57",
   "metadata": {},
   "outputs": [],
   "source": []
  }
 ],
 "metadata": {
  "kernelspec": {
   "display_name": "Python 3 (ipykernel)",
   "language": "python",
   "name": "python3"
  },
  "language_info": {
   "codemirror_mode": {
    "name": "ipython",
    "version": 3
   },
   "file_extension": ".py",
   "mimetype": "text/x-python",
   "name": "python",
   "nbconvert_exporter": "python",
   "pygments_lexer": "ipython3",
   "version": "3.11.3"
  }
 },
 "nbformat": 4,
 "nbformat_minor": 5
}
