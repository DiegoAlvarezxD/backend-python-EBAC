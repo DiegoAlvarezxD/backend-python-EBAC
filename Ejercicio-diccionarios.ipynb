{
 "cells": [
  {
   "cell_type": "code",
   "execution_count": 3,
   "id": "6b8e09be",
   "metadata": {},
   "outputs": [
    {
     "name": "stdout",
     "output_type": "stream",
     "text": [
      "Requirement already satisfied: pokebase in /Users/diegoalvarez/anaconda3/lib/python3.11/site-packages (1.4.1)\r\n",
      "Requirement already satisfied: requests in /Users/diegoalvarez/anaconda3/lib/python3.11/site-packages (from pokebase) (2.29.0)\r\n",
      "Requirement already satisfied: charset-normalizer<4,>=2 in /Users/diegoalvarez/anaconda3/lib/python3.11/site-packages (from requests->pokebase) (2.0.4)\r\n",
      "Requirement already satisfied: idna<4,>=2.5 in /Users/diegoalvarez/anaconda3/lib/python3.11/site-packages (from requests->pokebase) (3.4)\r\n",
      "Requirement already satisfied: urllib3<1.27,>=1.21.1 in /Users/diegoalvarez/anaconda3/lib/python3.11/site-packages (from requests->pokebase) (1.26.16)\r\n",
      "Requirement already satisfied: certifi>=2017.4.17 in /Users/diegoalvarez/anaconda3/lib/python3.11/site-packages (from requests->pokebase) (2023.5.7)\r\n"
     ]
    }
   ],
   "source": [
    "!pip install pokebase"
   ]
  },
  {
   "cell_type": "code",
   "execution_count": 6,
   "id": "5979e1c5",
   "metadata": {},
   "outputs": [
    {
     "name": "stdout",
     "output_type": "stream",
     "text": [
      "Ingresa el nombre de un pokemon\n",
      "\n",
      "charizard\n",
      "ID:  6\n",
      "Nombre:  charizard\n",
      "Altura:  17\n",
      "Peso:  \n",
      "Descripción:  Le gusta ir muy rápido\n"
     ]
    }
   ],
   "source": [
    "import pokebase as pb \n",
    "import requests \n",
    "\n",
    "pokemon_to_search = input(\"Ingresa el nombre de un pokemon\\n\\n\") \n",
    "data = pb.pokemon(pokemon_to_search).__dict__ \n",
    "id_ = data.get('id_') \n",
    "name = data.get('name') \n",
    "height = data.get('height')\n",
    "weight = \"\" \n",
    "\n",
    "print(\"ID: \", id_) \n",
    "print(\"Nombre: \", name) \n",
    "print(\"Altura: \", height) \n",
    "print(\"Peso: \", weight) \n",
    "url = \"https://pokeapi.co/api/v2/characteristic/{id}/\".format(id=id_) \n",
    "response = requests.get(url) \n",
    "for description_dict in response.json().get(\"descriptions\"):    \n",
    "    if description_dict.get(\"language\", {}).get(\"name\") == \"es\":        \n",
    "        description = description_dict.get(\"description\")        \n",
    "        print(\"Descripción: \",description)"
   ]
  },
  {
   "cell_type": "code",
   "execution_count": null,
   "id": "563e3b85",
   "metadata": {},
   "outputs": [],
   "source": []
  }
 ],
 "metadata": {
  "kernelspec": {
   "display_name": "Python 3 (ipykernel)",
   "language": "python",
   "name": "python3"
  },
  "language_info": {
   "codemirror_mode": {
    "name": "ipython",
    "version": 3
   },
   "file_extension": ".py",
   "mimetype": "text/x-python",
   "name": "python",
   "nbconvert_exporter": "python",
   "pygments_lexer": "ipython3",
   "version": "3.11.3"
  }
 },
 "nbformat": 4,
 "nbformat_minor": 5
}
