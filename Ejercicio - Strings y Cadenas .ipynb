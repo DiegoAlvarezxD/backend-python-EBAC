{
 "cells": [
  {
   "cell_type": "code",
   "execution_count": null,
   "id": "94f7faba",
   "metadata": {},
   "outputs": [],
   "source": [
    "my_string = \"\"\" \n",
    "Este es un product muy bueno, excelente, maravilloso \n",
    "\"\"\" \n",
    "my_string_1 = \"\"\"\n",
    "Este producto es defectuoso, malo, horrible\n",
    "\"\"\"\n",
    "positive_words = [\"bueno\", \"excelente\", \"maravilloso\"] \n",
    "negative_words = [\"defectuoso\", \"malo\", \"horrible\"] \n",
    "score = 0 \n",
    "for positive_word in positive_words:   \n",
    "    score = score + my_string_1.count(positive_word)   \n",
    "\n",
    "for negative_word in negative_words:    \n",
    "    score = score - my_string_1.count(negative_word)    \n",
    "\n",
    "if score == 0:    \n",
    "    result = \"Neutro\" \n",
    "if score > 0:    \n",
    "    result = \"Positivo\" \n",
    "if score < 0:    \n",
    "    result = \"Negativo\"    \n",
    "            \n",
    "print(\"Analizador de sentimientos\\n\") \n",
    "\n",
    "print(\"my_string: {}\\nscore: {} \\nresultado: {}\".format(my_string, score, result))"
   ]
  }
 ],
 "metadata": {
  "kernelspec": {
   "display_name": "Python 3 (ipykernel)",
   "language": "python",
   "name": "python3"
  },
  "language_info": {
   "codemirror_mode": {
    "name": "ipython",
    "version": 3
   },
   "file_extension": ".py",
   "mimetype": "text/x-python",
   "name": "python",
   "nbconvert_exporter": "python",
   "pygments_lexer": "ipython3",
   "version": "3.11.3"
  }
 },
 "nbformat": 4,
 "nbformat_minor": 5
}
