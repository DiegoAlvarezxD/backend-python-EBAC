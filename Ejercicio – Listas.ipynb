{
 "cells": [
  {
   "cell_type": "code",
   "execution_count": 7,
   "id": "8da7b771",
   "metadata": {},
   "outputs": [
    {
     "name": "stdout",
     "output_type": "stream",
     "text": [
      "Carrito de compras\n",
      "\n",
      " Productos Disponibles: 1.- Pan 2.- Jamón 3.- Crema 4.- Mayonesa 5.- Lechuga 6.- Mostaza 7.- Jitomate 8.- Pepino\n",
      "Ingresa una lista con los productos en este formato: [[Cantidad,Producto]]\n",
      "Por ejemplo: [[1,1], [3,2]] significa 1 Pan y 3 Jamón\n",
      "[[1,5], [3,8]]\n",
      "\n",
      "\n",
      "Tu carrito es:\n",
      "1 Lechuga\n",
      "3 Pepino\n"
     ]
    }
   ],
   "source": [
    "print(\"Carrito de compras\\n\") \n",
    "\n",
    "print(\"\"\" Productos Disponibles: 1.- Pan 2.- Jamón 3.- Crema 4.- Mayonesa 5.- Lechuga 6.- Mostaza 7.- Jitomate 8.- Pepino\"\"\") \n",
    "\n",
    "print(\"Ingresa una lista con los productos en este formato: [[Cantidad,Producto]]\") \n",
    "\n",
    "print(\"Por ejemplo: [[1,1], [3,2]] significa 1 Pan y 3 Jamón\" ) \n",
    "\n",
    "my_shopping_cart = eval(input()) \n",
    "\n",
    "print(\"\\n\\nTu carrito es:\") \n",
    "\n",
    "if type(my_shopping_cart) == list:    \n",
    "    if type(my_shopping_cart[0]) == list:        \n",
    "        for element in my_shopping_cart:            \n",
    "            product = \"\"            \n",
    "            if element[1] == 1:                \n",
    "                product = \"Pan\"            \n",
    "            if element[1] == 2:                \n",
    "                product = \"Jamón\"            \n",
    "            if element[1] == 3:                \n",
    "                product = \"Crema\"            \n",
    "            if element[1] == 4:                \n",
    "                product = \"Mayonesa\"            \n",
    "            if element[1] == 5:                \n",
    "                product = \"Lechuga\"  \n",
    "            if element[1] == 6:\n",
    "                product = \"Mostaza\"\n",
    "            if element[1] == 7:\n",
    "                product = \"Jitomate\"\n",
    "            if element[1] == 8:\n",
    "                product = \"Pepino\"\n",
    "            print(\"{} {}\".format(element[0], product))    \n",
    "    else:        \n",
    "        print(\"Formato incorrecto, debes ingresar una lista de listas\") \n",
    "else:    \n",
    "    print(\"Formato incorrecto, debes ingresar una lista de listas\")"
   ]
  },
  {
   "cell_type": "code",
   "execution_count": null,
   "id": "a1768f08",
   "metadata": {},
   "outputs": [],
   "source": []
  }
 ],
 "metadata": {
  "kernelspec": {
   "display_name": "Python 3 (ipykernel)",
   "language": "python",
   "name": "python3"
  },
  "language_info": {
   "codemirror_mode": {
    "name": "ipython",
    "version": 3
   },
   "file_extension": ".py",
   "mimetype": "text/x-python",
   "name": "python",
   "nbconvert_exporter": "python",
   "pygments_lexer": "ipython3",
   "version": "3.11.3"
  }
 },
 "nbformat": 4,
 "nbformat_minor": 5
}
