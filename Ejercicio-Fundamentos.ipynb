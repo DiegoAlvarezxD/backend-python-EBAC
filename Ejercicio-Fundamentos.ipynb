{
 "cells": [
  {
   "cell_type": "markdown",
   "id": "bffd8cd8",
   "metadata": {},
   "source": [
    "## Entrada de datos "
   ]
  },
  {
   "cell_type": "code",
   "execution_count": 1,
   "id": "b21edd33",
   "metadata": {},
   "outputs": [],
   "source": [
    "## Ejercicio en el cual pedire tres datos al usuario, un entero, un float y una cadena de texto. Imprimire esos\n",
    "## datos y pondre su tipo de dato, asi como su direccion de memoria "
   ]
  },
  {
   "cell_type": "code",
   "execution_count": 10,
   "id": "837abf3f",
   "metadata": {},
   "outputs": [
    {
     "name": "stdout",
     "output_type": "stream",
     "text": [
      "Indicame un numero entero, un numero con punto decimal y una cadena de texto, no olvides que es separada por comas: 85,378.14,Este es mi tarea \n",
      "El numero entero es:  85\n",
      "<class 'int'>\n",
      "4581710960\n",
      "El numero con punto decila es:  378.14\n",
      "<class 'float'>\n",
      "4581919408\n",
      "La cadena de texto es:  Este es mi tarea \n",
      "<class 'str'>\n",
      "4581914656\n"
     ]
    }
   ],
   "source": [
    "e, f, c = input(\"Indicame un numero entero, un numero con punto decimal y una cadena de texto, no olvides que es separada por comas: \").split(\",\")\n",
    "print(\"El numero entero es: \",int(e))\n",
    "print(type(int(e)))\n",
    "print(id(e))\n",
    "print(\"El numero con punto decila es: \",float(f))\n",
    "print(type(float(f)))\n",
    "print(id(f))\n",
    "print(\"La cadena de texto es: \",c)\n",
    "print(type(c))\n",
    "print(id(c))"
   ]
  },
  {
   "cell_type": "code",
   "execution_count": null,
   "id": "9fe5fa50",
   "metadata": {},
   "outputs": [],
   "source": []
  },
  {
   "cell_type": "code",
   "execution_count": null,
   "id": "5f835b39",
   "metadata": {},
   "outputs": [],
   "source": []
  }
 ],
 "metadata": {
  "kernelspec": {
   "display_name": "Python 3 (ipykernel)",
   "language": "python",
   "name": "python3"
  },
  "language_info": {
   "codemirror_mode": {
    "name": "ipython",
    "version": 3
   },
   "file_extension": ".py",
   "mimetype": "text/x-python",
   "name": "python",
   "nbconvert_exporter": "python",
   "pygments_lexer": "ipython3",
   "version": "3.11.3"
  }
 },
 "nbformat": 4,
 "nbformat_minor": 5
}
