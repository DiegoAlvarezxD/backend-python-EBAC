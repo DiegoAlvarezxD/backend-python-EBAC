{
 "cells": [
  {
   "cell_type": "code",
   "execution_count": 1,
   "id": "98ec085e",
   "metadata": {},
   "outputs": [
    {
     "name": "stdout",
     "output_type": "stream",
     "text": [
      "Lista de Reproducción\n",
      "\n",
      "Ingresa la palabra que te gustaría\n",
      "Ejemplo: 'rock', y obtendrás un playlist de canciones o artistas que incluyan la palabra rock\n",
      "Rock\n",
      "[{'artista': 'Olamide', 'canción': 'Rock'}, {'artista': 'Stray Kids', 'canción': 'ROCK'}, {'artista': 'Plies', 'canción': 'Rock'}, {'artista': 'Lithium', 'canción': 'ROCK (feat. Le Juiice)'}, {'artista': 'Pleymo', 'canción': 'Rock'}, {'artista': 'Rock', 'canción': 'I Am Rock'}, {'artista': 'R3HAB', 'canción': 'Rock My Body'}, {'artista': 'The City of Prague Philharmonic Orchestra', 'canción': 'The Rock (From \"The Rock\")'}, {'artista': 'Guaco', 'canción': 'Roce'}, {'artista': 'Justin Timberlake', 'canción': 'Rock Your Body'}, {'artista': 'Kid Rock', 'canción': 'All Summer Long'}, {'artista': 'Rock Danger', 'canción': 'Só Rock 2'}, {'artista': 'AC/DC', 'canción': 'Rock or Bust'}, {'artista': 'SEVENTEEN', 'canción': 'Rock'}, {'artista': 'Bones', 'canción': 'Rocks'}, {'artista': 'Planetshakers', 'canción': 'The Rock'}, {'artista': 'Still Woozy', 'canción': 'Rocky'}, {'artista': 'Ofenbach', 'canción': 'Rock It'}, {'artista': 'ATEEZ', 'canción': 'ROCKY'}, {'artista': 'The Clash', 'canción': 'Rock the Casbah (Remastered)'}, {'artista': 'Scorpions', 'canción': 'Rock Believer'}, {'artista': 'Mark B.', 'canción': 'Roce'}, {'artista': 'Rock Mafia', 'canción': 'The Big Bang'}, {'artista': 'AC/DC', 'canción': 'Rock N Roll Train'}, {'artista': 'Michael Jackson', 'canción': 'Rock With You'}]\n"
     ]
    }
   ],
   "source": [
    "import requests \n",
    "\n",
    "print(\"Lista de Reproducción\\n\") \n",
    "\n",
    "# Referencia: https://www.deezer.com/en/channels/explore \n",
    "\n",
    "print(\"Ingresa la palabra que te gustaría\") \n",
    "print(\"Ejemplo: 'rock', y obtendrás un playlist de canciones o artistas que incluyan la palabra rock\") \n",
    "word_to_search = input() \n",
    "\n",
    "url = \"https://deezerdevs-deezer.p.rapidapi.com/search\" \n",
    "querystring = {\"q\":word_to_search} \n",
    "headers = {\n",
    "    \"X-RapidAPI-Key\": \"3ed98f551fmshe4e6260228c4eadp13db17jsn8c893e1194da\",\n",
    "    \"X-RapidAPI-Host\": \"deezerdevs-deezer.p.rapidapi.com\" \n",
    "} \n",
    "response = requests.request(\"GET\", url, headers=headers, params=querystring).json() \n",
    "my_list = [{\"artista\": element['artist']['name'], \"canción\": element['title']} for element in response['data']]\n",
    " \n",
    "print(my_list)"
   ]
  },
  {
   "cell_type": "code",
   "execution_count": null,
   "id": "68bc6ea9",
   "metadata": {},
   "outputs": [],
   "source": []
  }
 ],
 "metadata": {
  "kernelspec": {
   "display_name": "Python 3 (ipykernel)",
   "language": "python",
   "name": "python3"
  },
  "language_info": {
   "codemirror_mode": {
    "name": "ipython",
    "version": 3
   },
   "file_extension": ".py",
   "mimetype": "text/x-python",
   "name": "python",
   "nbconvert_exporter": "python",
   "pygments_lexer": "ipython3",
   "version": "3.11.3"
  }
 },
 "nbformat": 4,
 "nbformat_minor": 5
}
